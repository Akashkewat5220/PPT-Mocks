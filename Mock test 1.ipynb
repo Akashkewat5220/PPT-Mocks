{
 "cells": [
  {
   "cell_type": "markdown",
   "id": "500eb160-3a37-47e3-a0a1-9da4f69cccc8",
   "metadata": {},
   "source": [
    "Answer 1"
   ]
  },
  {
   "cell_type": "code",
   "execution_count": 3,
   "id": "a61be7d9-6569-4b0f-b5b0-52f749aebf72",
   "metadata": {},
   "outputs": [],
   "source": [
    "def moveZeroes(nums):\n",
    "    non = 0  \n",
    "    arr = 0  \n",
    "\n",
    "    while arr < len(nums):\n",
    "        if nums[arr] != 0:\n",
    "            \n",
    "            nums[non], nums[arr] = nums[arr], nums[non]\n",
    "            non += 1\n",
    "        arr += 1\n",
    "\n",
    "   \n",
    "    for i in range(non, len(nums)):\n",
    "        nums[i] = 0\n",
    "\n",
    "    return nums\n"
   ]
  },
  {
   "cell_type": "code",
   "execution_count": 4,
   "id": "8683cb23-8a2f-4926-bc6f-6c5270b4e5d1",
   "metadata": {},
   "outputs": [
    {
     "name": "stdout",
     "output_type": "stream",
     "text": [
      "[1, 3, 12, 0, 0]\n",
      "[0]\n"
     ]
    }
   ],
   "source": [
    "print(moveZeroes([0, 1, 0, 3, 12]))  # Output: [1, 3, 12, 0, 0]\n",
    "print(moveZeroes([0]))  # Output: [0]\n"
   ]
  },
  {
   "cell_type": "code",
   "execution_count": null,
   "id": "a385f022-c323-473d-acca-ee2f233d2ef5",
   "metadata": {},
   "outputs": [],
   "source": []
  },
  {
   "cell_type": "code",
   "execution_count": null,
   "id": "d6ebaf5c-0c0a-494e-9afe-140d0eb48f81",
   "metadata": {},
   "outputs": [],
   "source": []
  },
  {
   "cell_type": "markdown",
   "id": "bbe8158e-325d-41f8-b00b-63f6fb644253",
   "metadata": {},
   "source": [
    "ANSWER 2"
   ]
  },
  {
   "cell_type": "code",
   "execution_count": 5,
   "id": "d48c492a-7d0b-4569-bf8f-38f7162a7265",
   "metadata": {},
   "outputs": [],
   "source": [
    "def firstUniqChar(s):\n",
    "    frequency = {}  \n",
    "\n",
    "    \n",
    "    for char in s:\n",
    "        frequency[char] = frequency.get(char, 0) + 1\n",
    "\n",
    "  \n",
    "    for i, char in enumerate(s):\n",
    "        if frequency[char] == 1:\n",
    "            return i\n",
    "\n",
    "    return -1\n"
   ]
  },
  {
   "cell_type": "code",
   "execution_count": 6,
   "id": "6d5b608c-f438-4e78-b428-b5a1d380cea9",
   "metadata": {},
   "outputs": [
    {
     "name": "stdout",
     "output_type": "stream",
     "text": [
      "0\n",
      "2\n",
      "-1\n"
     ]
    }
   ],
   "source": [
    "print(firstUniqChar(\"leetcode\")) \n",
    "print(firstUniqChar(\"loveleetcode\")) \n",
    "print(firstUniqChar(\"aabb\")) \n"
   ]
  },
  {
   "cell_type": "code",
   "execution_count": null,
   "id": "d33944a0-0dca-4516-80f0-aa79c62b41cb",
   "metadata": {},
   "outputs": [],
   "source": []
  }
 ],
 "metadata": {
  "kernelspec": {
   "display_name": "Python 3 (ipykernel)",
   "language": "python",
   "name": "python3"
  },
  "language_info": {
   "codemirror_mode": {
    "name": "ipython",
    "version": 3
   },
   "file_extension": ".py",
   "mimetype": "text/x-python",
   "name": "python",
   "nbconvert_exporter": "python",
   "pygments_lexer": "ipython3",
   "version": "3.10.6"
  }
 },
 "nbformat": 4,
 "nbformat_minor": 5
}
